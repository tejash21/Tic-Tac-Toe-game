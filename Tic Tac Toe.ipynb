{
 "cells": [
  {
   "cell_type": "markdown",
   "id": "c2182792",
   "metadata": {},
   "source": [
    "# step1"
   ]
  },
  {
   "cell_type": "code",
   "execution_count": 2,
   "id": "44e1cdcf",
   "metadata": {},
   "outputs": [],
   "source": [
    "from IPython.display import clear_output\n",
    "\n",
    "def display_board(board):\n",
    "    clear_output() # this only works in jupyter!\n",
    "    print(' '+board[7]+'|'+board[8]+'|'+board[9])\n",
    "    print('-------')\n",
    "    print(' '+board[4]+'|'+board[5]+'|'+board[6])\n",
    "    print('-------')\n",
    "    print(' '+board[1]+'|'+board[2]+'|'+board[3])"
   ]
  },
  {
   "cell_type": "code",
   "execution_count": 3,
   "id": "314ed8e4",
   "metadata": {},
   "outputs": [
    {
     "name": "stdout",
     "output_type": "stream",
     "text": [
      " 7|8|9\n",
      "-------\n",
      " 4|5|6\n",
      "-------\n",
      " 1|2|3\n"
     ]
    }
   ],
   "source": [
    "test_board = ['#','1','2','3','4','5','6','7','8','9']\n",
    "display_board(test_board)"
   ]
  },
  {
   "cell_type": "markdown",
   "id": "bac5d55e",
   "metadata": {},
   "source": [
    "# step2"
   ]
  },
  {
   "cell_type": "code",
   "execution_count": 4,
   "id": "64d583ff",
   "metadata": {},
   "outputs": [],
   "source": [
    "def player_input():\n",
    "    \n",
    "    marker = ''\n",
    "    \n",
    "    while marker!= 'X' and marker!= 'O':\n",
    "        marker = input(f'{name1},choose X or O: ').upper()\n",
    "        \n",
    "    player1 = marker\n",
    "    \n",
    "    if player1 == 'X':\n",
    "        return ('X','O')\n",
    "    else:\n",
    "        return ('O','X')\n",
    "    \n",
    "    player1, player2 = player_input()    \n",
    "    return(f'{name1} your marker is {player1}',f'{name2} your marker is {player2}')"
   ]
  },
  {
   "cell_type": "markdown",
   "id": "c002c7c9",
   "metadata": {},
   "source": [
    "# step3"
   ]
  },
  {
   "cell_type": "code",
   "execution_count": 5,
   "id": "dd8e6a10",
   "metadata": {},
   "outputs": [],
   "source": [
    "def place_marker(board, marker, position):\n",
    "    \n",
    "    board[position] = marker"
   ]
  },
  {
   "cell_type": "code",
   "execution_count": 6,
   "id": "3ff2c7d1",
   "metadata": {},
   "outputs": [
    {
     "data": {
      "text/plain": [
       "['#', '1', '2', '3', '4', '5', '6', '7', '8', '9']"
      ]
     },
     "execution_count": 6,
     "metadata": {},
     "output_type": "execute_result"
    }
   ],
   "source": [
    "test_board"
   ]
  },
  {
   "cell_type": "code",
   "execution_count": 7,
   "id": "f157aebc",
   "metadata": {},
   "outputs": [
    {
     "name": "stdout",
     "output_type": "stream",
     "text": [
      " 7|$|9\n",
      "-------\n",
      " 4|5|6\n",
      "-------\n",
      " 1|2|3\n"
     ]
    }
   ],
   "source": [
    "place_marker(test_board,'$',8)\n",
    "display_board(test_board)"
   ]
  },
  {
   "cell_type": "markdown",
   "id": "a70f47c7",
   "metadata": {},
   "source": [
    "# step4"
   ]
  },
  {
   "cell_type": "code",
   "execution_count": 8,
   "id": "a29ea98f",
   "metadata": {},
   "outputs": [],
   "source": [
    "def win_check(board, mark):\n",
    "    \n",
    "    return((board[1] == mark and board[2] == mark and board[3] == mark) or #row\n",
    "    (board[4] == mark and board[5] == mark and board[6] == mark) or #row\n",
    "    (board[7] == mark and board[8] == mark and board[9] == mark) or #row\n",
    "    (board[1] == mark and board[4] == mark and board[7] == mark) or #column\n",
    "    (board[2] == mark and board[5] == mark and board[8] == mark) or #column\n",
    "    (board[3] == mark and board[6] == mark and board[9] == mark) or #column\n",
    "    (board[1] == mark and board[5] == mark and board[9] == mark) or #digonal\n",
    "    (board[3] == mark and board[5] == mark and board[7] == mark))#diagonal\n",
    "    "
   ]
  },
  {
   "cell_type": "code",
   "execution_count": 9,
   "id": "582dc975",
   "metadata": {},
   "outputs": [
    {
     "name": "stdout",
     "output_type": "stream",
     "text": [
      " 7|$|9\n",
      "-------\n",
      " 4|5|6\n",
      "-------\n",
      " 1|2|3\n"
     ]
    },
    {
     "data": {
      "text/plain": [
       "False"
      ]
     },
     "execution_count": 9,
     "metadata": {},
     "output_type": "execute_result"
    }
   ],
   "source": [
    "display_board(test_board)\n",
    "win_check(test_board,'X')"
   ]
  },
  {
   "cell_type": "markdown",
   "id": "1ce54bdb",
   "metadata": {},
   "source": [
    "# step5"
   ]
  },
  {
   "cell_type": "code",
   "execution_count": 10,
   "id": "a7610a9a",
   "metadata": {},
   "outputs": [],
   "source": [
    "import random\n",
    "\n",
    "def choose_first():\n",
    "    \n",
    "    flip = random.randint(0,1)\n",
    "    \n",
    "    if flip == 0:\n",
    "        return (f'{name1}')\n",
    "    else:\n",
    "        return (f'{name2}')"
   ]
  },
  {
   "cell_type": "markdown",
   "id": "100a67b7",
   "metadata": {},
   "source": [
    "# step6"
   ]
  },
  {
   "cell_type": "code",
   "execution_count": 11,
   "id": "eee15661",
   "metadata": {},
   "outputs": [],
   "source": [
    "def space_check(board,position):\n",
    "    \n",
    "    return board[position] == ' '"
   ]
  },
  {
   "cell_type": "markdown",
   "id": "fe087937",
   "metadata": {},
   "source": [
    "# step7"
   ]
  },
  {
   "cell_type": "code",
   "execution_count": 12,
   "id": "ea147102",
   "metadata": {},
   "outputs": [],
   "source": [
    "def full_board_check(board):\n",
    "    \n",
    "    for i in range(1,10):\n",
    "        if space_check(board,i):\n",
    "            return False\n",
    "    \n",
    "    #BOARD IS FULL SO WE RETURN TRUE\n",
    "    return True"
   ]
  },
  {
   "cell_type": "markdown",
   "id": "f6ff508d",
   "metadata": {},
   "source": [
    "# step8"
   ]
  },
  {
   "cell_type": "code",
   "execution_count": 13,
   "id": "aeea26d9",
   "metadata": {},
   "outputs": [],
   "source": [
    "def player_choice(board):\n",
    "    \n",
    "    position = 0\n",
    "    \n",
    "    while position not in range(1,10) or not space_check(board,position):\n",
    "        position = int(input('choose a position: (1-9) '))\n",
    "        \n",
    "    return position"
   ]
  },
  {
   "cell_type": "markdown",
   "id": "fb55c10e",
   "metadata": {},
   "source": [
    "# step9"
   ]
  },
  {
   "cell_type": "code",
   "execution_count": 14,
   "id": "22c68b6b",
   "metadata": {},
   "outputs": [],
   "source": [
    "def replay():\n",
    "    \n",
    "    choice = input('Play again? enter yes or no')\n",
    "    \n",
    "    return choice == 'yes'"
   ]
  },
  {
   "cell_type": "markdown",
   "id": "6ed041b6",
   "metadata": {},
   "source": [
    "# step10"
   ]
  },
  {
   "cell_type": "code",
   "execution_count": 15,
   "id": "ca666eef",
   "metadata": {},
   "outputs": [
    {
     "name": "stdout",
     "output_type": "stream",
     "text": [
      "  | |O\n",
      "-------\n",
      " X|O|X\n",
      "-------\n",
      " O|X|O\n",
      "Congratulations! tejash you have won!\n",
      "Play again? enter yes or nono\n"
     ]
    }
   ],
   "source": [
    "#while loop to keep running the game\n",
    "print('Welcome to The Tic Tac Toe')\n",
    "\n",
    "name1 = input('player1 please enter your name: ')\n",
    "name2 = input('player2 please enter your name: ')\n",
    "\n",
    "while True:\n",
    "    \n",
    "    #play the game\n",
    "    \n",
    "    ##setting everything up\n",
    "    the_board = [' '] * 10\n",
    "    \n",
    "    player1, player2 = player_input()\n",
    "    \n",
    "    turn = choose_first()\n",
    "    print(turn + ' will go first.')\n",
    "    \n",
    "    play_game = input('Are you ready to play? Enter y or n.')\n",
    "    \n",
    "    if play_game.lower()[0] == 'y':\n",
    "        game_on = True\n",
    "    else:\n",
    "        game_on = False\n",
    "\n",
    "    ##gameplay\n",
    "    \n",
    "    while game_on:\n",
    "        if turn == 'name1':\n",
    "            \n",
    "            # Player1's turn.\n",
    "            \n",
    "            #show the board\n",
    "            display_board(the_board)\n",
    "            #choose a position\n",
    "            position = player_choice(the_board)\n",
    "            #place the marker on the position\n",
    "            place_marker(the_board, player1, position)\n",
    "\n",
    "            #check if they won\n",
    "            if win_check(the_board, player1):\n",
    "                display_board(the_board)\n",
    "                print(f'Congratulations! {name1} You have won the game!')\n",
    "                game_on = False\n",
    "            else:\n",
    "                if full_board_check(the_board):\n",
    "                    display_board(the_board)\n",
    "                    print('The game is a draw!')\n",
    "                    break\n",
    "                else:\n",
    "                    turn = 'name2'\n",
    "\n",
    "        else:\n",
    "            # Player2's turn.\n",
    "            \n",
    "             #show the board\n",
    "            display_board(the_board)\n",
    "            #choose a position\n",
    "            position = player_choice(the_board)\n",
    "            #place the marker on the position\n",
    "            place_marker(the_board, player2, position)\n",
    "\n",
    "            #check if they won\n",
    "            if win_check(the_board, player2):\n",
    "                display_board(the_board)\n",
    "                print(f'Congratulations! {name2} you have won!')\n",
    "                game_on = False\n",
    "            else:\n",
    "                if full_board_check(the_board):\n",
    "                    display_board(the_board)\n",
    "                    print('The game is a draw!')\n",
    "                    break\n",
    "                else:\n",
    "                    turn = 'name1'\n",
    "\n",
    "    if not replay():\n",
    "        break\n",
    "\n",
    "\n",
    "#break out of while loop on replay()"
   ]
  },
  {
   "cell_type": "raw",
   "id": "4957abd1",
   "metadata": {},
   "source": []
  },
  {
   "cell_type": "code",
   "execution_count": null,
   "id": "cfb5322d",
   "metadata": {},
   "outputs": [],
   "source": []
  }
 ],
 "metadata": {
  "kernelspec": {
   "display_name": "Python 3 (ipykernel)",
   "language": "python",
   "name": "python3"
  },
  "language_info": {
   "codemirror_mode": {
    "name": "ipython",
    "version": 3
   },
   "file_extension": ".py",
   "mimetype": "text/x-python",
   "name": "python",
   "nbconvert_exporter": "python",
   "pygments_lexer": "ipython3",
   "version": "3.9.12"
  }
 },
 "nbformat": 4,
 "nbformat_minor": 5
}
